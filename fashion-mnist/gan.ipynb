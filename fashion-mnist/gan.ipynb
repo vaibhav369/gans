{
 "cells": [
  {
   "cell_type": "code",
   "execution_count": 30,
   "metadata": {},
   "outputs": [],
   "source": [
    "import numpy as np\n",
    "import tensorflow as tf\n",
    "from tensorflow import keras\n",
    "from tensorflow.keras.datasets import fashion_mnist\n",
    "from tensorflow.keras.layers import Dense, Input, Conv2D, Conv2DTranspose, LeakyReLU, \\\n",
    "                                    BatchNormalization, Reshape, Activation, Flatten\n",
    "from tensorflow.keras.models import Sequential\n",
    "from tensorflow.keras.optimizers import Adam\n",
    "import matplotlib.pyplot as plt\n",
    "plt.style.use('ggplot')\n",
    "%matplotlib inline\n",
    "\n",
    "from tqdm import tqdm_notebook"
   ]
  },
  {
   "cell_type": "code",
   "execution_count": 2,
   "metadata": {},
   "outputs": [],
   "source": [
    "tf.enable_eager_execution()"
   ]
  },
  {
   "cell_type": "markdown",
   "metadata": {},
   "source": [
    "First, we will prepare (real data)"
   ]
  },
  {
   "cell_type": "code",
   "execution_count": 3,
   "metadata": {},
   "outputs": [
    {
     "name": "stdout",
     "output_type": "stream",
     "text": [
      "(60000, 28, 28)\n",
      "(10000, 28, 28)\n"
     ]
    }
   ],
   "source": [
    "(X_train, y_train), (X_test, y_test) = fashion_mnist.load_data()\n",
    "print(X_train.shape)\n",
    "print(X_test.shape)"
   ]
  },
  {
   "cell_type": "code",
   "execution_count": 4,
   "metadata": {},
   "outputs": [
    {
     "name": "stdout",
     "output_type": "stream",
     "text": [
      "(70000, 28, 28)\n"
     ]
    }
   ],
   "source": [
    "X = np.concatenate((X_train, X_test), axis=0).astype(np.float32)\n",
    "print(X.shape)"
   ]
  },
  {
   "cell_type": "code",
   "execution_count": 5,
   "metadata": {},
   "outputs": [
    {
     "name": "stdout",
     "output_type": "stream",
     "text": [
      "(70000, 28, 28, 1)\n"
     ]
    }
   ],
   "source": [
    "X = (X - 127.5) / 255.\n",
    "X = np.expand_dims(X, axis=-1)\n",
    "print(X.shape)"
   ]
  },
  {
   "cell_type": "markdown",
   "metadata": {},
   "source": [
    "Seems our (real data) is ready"
   ]
  },
  {
   "cell_type": "markdown",
   "metadata": {},
   "source": [
    "Let's focus on making the generator and discriminator for our GAN"
   ]
  },
  {
   "cell_type": "code",
   "execution_count": 6,
   "metadata": {},
   "outputs": [],
   "source": [
    "z_dim = 200"
   ]
  },
  {
   "cell_type": "code",
   "execution_count": 7,
   "metadata": {},
   "outputs": [],
   "source": [
    "def build_generator():\n",
    "    \n",
    "    model = Sequential()\n",
    "    model.add( Dense(7 * 7 * 256, input_shape=(z_dim, )) )\n",
    "    model.add( Reshape((7, 7, 256)) )\n",
    "    assert model.output_shape[1:] == (7, 7, 256)\n",
    "    \n",
    "    model.add( Conv2DTranspose(128, kernel_size=3, strides=2, padding='same') )\n",
    "    model.add( BatchNormalization() )\n",
    "    model.add( LeakyReLU(alpha=0.05) )\n",
    "    assert model.output_shape[1:] == (14, 14, 128)\n",
    "    \n",
    "    model.add( Conv2DTranspose(64, kernel_size=3, strides=1, padding='same') )\n",
    "    model.add( BatchNormalization() )\n",
    "    model.add( LeakyReLU(alpha=0.05) )\n",
    "    assert model.output_shape[1:] == (14, 14, 64)\n",
    "    \n",
    "    model.add( Conv2DTranspose(1, kernel_size=3, strides=2, padding='same') )\n",
    "    model.add( Activation('tanh') )\n",
    "    assert model.output_shape[1:] == (28, 28, 1)\n",
    "    \n",
    "    return model"
   ]
  },
  {
   "cell_type": "code",
   "execution_count": 8,
   "metadata": {},
   "outputs": [],
   "source": [
    "def build_discriminator():\n",
    "    \n",
    "    model = Sequential()\n",
    "    model.add( Conv2D(32, kernel_size=3, strides=2, input_shape=(28, 28, 1), padding='same') )\n",
    "    model.add( BatchNormalization() )\n",
    "    model.add( LeakyReLU(alpha=0.05) )\n",
    "    assert model.output_shape[1:] == (14, 14, 32)\n",
    "    \n",
    "    model.add( Conv2D(64, kernel_size=3, strides=2, padding='same') )\n",
    "    model.add( BatchNormalization() )\n",
    "    model.add( LeakyReLU(alpha=0.05) )\n",
    "    assert model.output_shape[1:] == (7, 7, 64)\n",
    "    \n",
    "    model.add( Conv2D(128, kernel_size=3, strides=2, padding='same') )\n",
    "    model.add( BatchNormalization() )\n",
    "    model.add( LeakyReLU(alpha=0.05) )\n",
    "    \n",
    "    model.add( Flatten() )\n",
    "    model.add( Dense(1, activation='sigmoid') )\n",
    "    return model"
   ]
  },
  {
   "cell_type": "code",
   "execution_count": 9,
   "metadata": {},
   "outputs": [],
   "source": [
    "def build_gan(generator, discriminator):\n",
    "    \n",
    "    model = Sequential()\n",
    "    model.add( generator )\n",
    "    model.add( discriminator )\n",
    "    return model"
   ]
  },
  {
   "cell_type": "code",
   "execution_count": 10,
   "metadata": {},
   "outputs": [
    {
     "name": "stdout",
     "output_type": "stream",
     "text": [
      "WARNING:tensorflow:From /home/vaibhav/anaconda3/lib/python3.7/site-packages/tensorflow/python/ops/resource_variable_ops.py:642: colocate_with (from tensorflow.python.framework.ops) is deprecated and will be removed in a future version.\n",
      "Instructions for updating:\n",
      "Colocations handled automatically by placer.\n"
     ]
    }
   ],
   "source": [
    "discriminator = build_discriminator()\n",
    "discriminator.compile(loss='binary_crossentropy', optimizer=Adam(), metrics=['accuracy'])\n",
    "\n",
    "generator = build_generator()\n",
    "discriminator.trainable = False\n",
    "\n",
    "gan = build_gan(generator, discriminator)\n",
    "gan.compile(loss='binary_crossentropy', optimizer=Adam())"
   ]
  },
  {
   "cell_type": "code",
   "execution_count": 11,
   "metadata": {},
   "outputs": [
    {
     "name": "stdout",
     "output_type": "stream",
     "text": [
      "GENERATOR\n",
      "_________________________________________________________________\n",
      "Layer (type)                 Output Shape              Param #   \n",
      "=================================================================\n",
      "dense_1 (Dense)              (None, 12544)             2521344   \n",
      "_________________________________________________________________\n",
      "reshape (Reshape)            (None, 7, 7, 256)         0         \n",
      "_________________________________________________________________\n",
      "conv2d_transpose (Conv2DTran (None, 14, 14, 128)       295040    \n",
      "_________________________________________________________________\n",
      "batch_normalization_v1_3 (Ba (None, 14, 14, 128)       512       \n",
      "_________________________________________________________________\n",
      "leaky_re_lu_3 (LeakyReLU)    (None, 14, 14, 128)       0         \n",
      "_________________________________________________________________\n",
      "conv2d_transpose_1 (Conv2DTr (None, 14, 14, 64)        73792     \n",
      "_________________________________________________________________\n",
      "batch_normalization_v1_4 (Ba (None, 14, 14, 64)        256       \n",
      "_________________________________________________________________\n",
      "leaky_re_lu_4 (LeakyReLU)    (None, 14, 14, 64)        0         \n",
      "_________________________________________________________________\n",
      "conv2d_transpose_2 (Conv2DTr (None, 28, 28, 1)         577       \n",
      "_________________________________________________________________\n",
      "activation (Activation)      (None, 28, 28, 1)         0         \n",
      "=================================================================\n",
      "Total params: 2,891,521\n",
      "Trainable params: 2,891,137\n",
      "Non-trainable params: 384\n",
      "_________________________________________________________________\n",
      "None\n"
     ]
    }
   ],
   "source": [
    "print('GENERATOR')\n",
    "print(generator.summary())"
   ]
  },
  {
   "cell_type": "code",
   "execution_count": 12,
   "metadata": {},
   "outputs": [
    {
     "name": "stdout",
     "output_type": "stream",
     "text": [
      "DISCRIMINATOR\n",
      "_________________________________________________________________\n",
      "Layer (type)                 Output Shape              Param #   \n",
      "=================================================================\n",
      "conv2d (Conv2D)              (None, 14, 14, 32)        320       \n",
      "_________________________________________________________________\n",
      "batch_normalization_v1 (Batc (None, 14, 14, 32)        128       \n",
      "_________________________________________________________________\n",
      "leaky_re_lu (LeakyReLU)      (None, 14, 14, 32)        0         \n",
      "_________________________________________________________________\n",
      "conv2d_1 (Conv2D)            (None, 7, 7, 64)          18496     \n",
      "_________________________________________________________________\n",
      "batch_normalization_v1_1 (Ba (None, 7, 7, 64)          256       \n",
      "_________________________________________________________________\n",
      "leaky_re_lu_1 (LeakyReLU)    (None, 7, 7, 64)          0         \n",
      "_________________________________________________________________\n",
      "conv2d_2 (Conv2D)            (None, 4, 4, 128)         73856     \n",
      "_________________________________________________________________\n",
      "batch_normalization_v1_2 (Ba (None, 4, 4, 128)         512       \n",
      "_________________________________________________________________\n",
      "leaky_re_lu_2 (LeakyReLU)    (None, 4, 4, 128)         0         \n",
      "_________________________________________________________________\n",
      "flatten (Flatten)            (None, 2048)              0         \n",
      "_________________________________________________________________\n",
      "dense (Dense)                (None, 1)                 2049      \n",
      "=================================================================\n",
      "WARNING:tensorflow:Discrepancy between trainable weights and collected trainable weights, did you set `model.trainable` without calling `model.compile` after ?\n",
      "Total params: 190,786\n",
      "Trainable params: 95,169\n",
      "Non-trainable params: 95,617\n",
      "_________________________________________________________________\n",
      "None\n"
     ]
    }
   ],
   "source": [
    "print('DISCRIMINATOR')\n",
    "print(discriminator.summary())"
   ]
  },
  {
   "cell_type": "code",
   "execution_count": 13,
   "metadata": {},
   "outputs": [
    {
     "name": "stdout",
     "output_type": "stream",
     "text": [
      "GAN\n",
      "_________________________________________________________________\n",
      "Layer (type)                 Output Shape              Param #   \n",
      "=================================================================\n",
      "sequential_1 (Sequential)    (None, 28, 28, 1)         2891521   \n",
      "_________________________________________________________________\n",
      "sequential (Sequential)      (None, 1)                 95617     \n",
      "=================================================================\n",
      "Total params: 2,987,138\n",
      "Trainable params: 2,891,137\n",
      "Non-trainable params: 96,001\n",
      "_________________________________________________________________\n",
      "None\n"
     ]
    }
   ],
   "source": [
    "print('GAN')\n",
    "print(gan.summary())"
   ]
  },
  {
   "cell_type": "markdown",
   "metadata": {},
   "source": [
    "This is the most important piece of code. We do the following:-\n",
    "\n",
    "We make a discriminator, compile it for use. Now, we use the untrainable version of the same discriminator (with same weights) in the gan. SO, for gan, only generator is trainable"
   ]
  },
  {
   "cell_type": "code",
   "execution_count": 14,
   "metadata": {},
   "outputs": [],
   "source": [
    "z_sample = np.random.normal(size=(2, z_dim)).astype(np.float32)\n",
    "gen_imgs = generator.predict(z_sample)\n",
    "discriminator_output = discriminator(gen_imgs)"
   ]
  },
  {
   "cell_type": "code",
   "execution_count": 15,
   "metadata": {},
   "outputs": [],
   "source": [
    "def sample_images(generator, image_grid_rows=4, image_grid_columns=4):\n",
    "\n",
    "    # Sample random noise\n",
    "    z = np.random.normal(0, 1, (image_grid_rows * image_grid_columns, z_dim))\n",
    "\n",
    "    # Generate images from random noise\n",
    "    gen_imgs = generator.predict(z)\n",
    "\n",
    "    # Rescale image pixel values to [0, 1]\n",
    "    gen_imgs = 0.5 * gen_imgs + 0.5\n",
    "\n",
    "    # Set image grid\n",
    "    fig, axs = plt.subplots(image_grid_rows,\n",
    "                            image_grid_columns,\n",
    "                            figsize=(4, 4),\n",
    "                            sharey=True,\n",
    "                            sharex=True)\n",
    "\n",
    "    cnt = 0\n",
    "    for i in range(image_grid_rows):\n",
    "        for j in range(image_grid_columns):\n",
    "            # Output a grid of images\n",
    "            axs[i, j].imshow(gen_imgs[cnt, :, :, 0], cmap='gray')\n",
    "            axs[i, j].axis('off')\n",
    "            cnt += 1"
   ]
  },
  {
   "cell_type": "code",
   "execution_count": 16,
   "metadata": {},
   "outputs": [
    {
     "data": {
      "image/png": "[encoded data removed]",
      "text/plain": [
       "<Figure size 288x288 with 4 Axes>"
      ]
     },
     "metadata": {
      "needs_background": "light"
     },
     "output_type": "display_data"
    }
   ],
   "source": [
    "sample_images(generator, image_grid_rows=2, image_grid_columns=2)"
   ]
  },
  {
   "cell_type": "code",
   "execution_count": 27,
   "metadata": {},
   "outputs": [],
   "source": [
    "gen_losses = []\n",
    "\n",
    "disc_losses = []\n",
    "disc_accuracies = []"
   ]
  },
  {
   "cell_type": "code",
   "execution_count": 31,
   "metadata": {},
   "outputs": [],
   "source": [
    "def train(num_epochs=100, batch_size=32):\n",
    "    \n",
    "    real = np.ones(shape=(batch_size, 1))\n",
    "    fake = np.zeros(shape=(batch_size, 1))\n",
    "    \n",
    "    num_imgs = X.shape[0]\n",
    "    \n",
    "    for epoch in range(num_epochs):\n",
    "        \n",
    "        num_batches = num_imgs // batch_size\n",
    "        \n",
    "        batch_gen_loss = []\n",
    "        batch_disc_loss = []\n",
    "        batch_disc_acc = []\n",
    "        \n",
    "        for i in tqdm_notebook(range(num_batches)):\n",
    "        \n",
    "            idxs = np.random.randint(low=0, high=num_imgs, size=batch_size)\n",
    "            real_imgs = X[idxs]\n",
    "\n",
    "            z = np.random.normal(size=(batch_size, z_dim)).astype(np.float32)\n",
    "            gen_imgs = generator(z)\n",
    "\n",
    "            d_loss1, d_acc1 = discriminator.train_on_batch(real_imgs, real)\n",
    "            d_loss2, d_acc2 = discriminator.train_on_batch(gen_imgs, fake)\n",
    "            d_loss, d_acc = 0.5 * (d_loss1 + d_loss2), 0.5 * (d_acc1 + d_acc2)\n",
    "\n",
    "            g_loss = gan.train_on_batch(z, real)\n",
    "\n",
    "            batch_gen_loss.append(g_loss)\n",
    "            batch_disc_loss.append(d_loss)\n",
    "            batch_disc_acc.append(d_acc)\n",
    "        \n",
    "        print('Epoch {}, generator loss = {}, discriminator loss/acc = {}/{}'.format(\n",
    "            epoch, np.mean(batch_gen_loss), np.mean(batch_disc_loss), np.mean(batch_disc_acc)*100.))\n",
    "        sample_images(generator, image_grid_rows=3, image_grid_columns=3)\n",
    "        \n",
    "        gen_losses.append( np.mean(batch_gen_loss) )\n",
    "        disc_losses.append( np.mean(batch_disc_loss) )\n",
    "        disc_accuracies.append( np.mean(batch_disc_acc) )"
   ]
  },
  {
   "cell_type": "code",
   "execution_count": null,
   "metadata": {},
   "outputs": [
    {
     "data": {
      "application/vnd.jupyter.widget-view+json": {
       "model_id": "b6a5438457154f22aa3f5fa7a9d3615e",
       "version_major": 2,
       "version_minor": 0
      },
      "text/plain": [
       "HBox(children=(IntProgress(value=0, max=35000), HTML(value='')))"
      ]
     },
     "metadata": {},
     "output_type": "display_data"
    },
    {
     "name": "stdout",
     "output_type": "stream",
     "text": [
      "WARNING:tensorflow:Discrepancy between trainable weights and collected trainable weights, did you set `model.trainable` without calling `model.compile` after ?\n",
      "WARNING:tensorflow:Discrepancy between trainable weights and collected trainable weights, did you set `model.trainable` without calling `model.compile` after ?\n",
      "\n",
      "Epoch 0, generator loss = 4.175047874450684, discriminator loss/acc = 0.19669966030130562/92.11142857142856\n"
     ]
    },
    {
     "data": {
      "application/vnd.jupyter.widget-view+json": {
       "model_id": "1fc4d5cd620c4945a832fdb109a5061c",
       "version_major": 2,
       "version_minor": 0
      },
      "text/plain": [
       "HBox(children=(IntProgress(value=0, max=35000), HTML(value='')))"
      ]
     },
     "metadata": {},
     "output_type": "display_data"
    },
    {
     "name": "stdout",
     "output_type": "stream",
     "text": [
      "\n",
      "Epoch 1, generator loss = 3.8563804626464844, discriminator loss/acc = 0.1917767996225442/92.31714285714285\n"
     ]
    },
    {
     "data": {
      "application/vnd.jupyter.widget-view+json": {
       "model_id": "45d997afc0714de1a3ba536faaad9bd1",
       "version_major": 2,
       "version_minor": 0
      },
      "text/plain": [
       "HBox(children=(IntProgress(value=0, max=35000), HTML(value='')))"
      ]
     },
     "metadata": {},
     "output_type": "display_data"
    },
    {
     "name": "stdout",
     "output_type": "stream",
     "text": [
      "\n",
      "Epoch 2, generator loss = 3.6968283653259277, discriminator loss/acc = 0.1837546321002801/92.71714285714285\n"
     ]
    },
    {
     "data": {
      "application/vnd.jupyter.widget-view+json": {
       "model_id": "aec754065dbe4eb78b0a653200759a52",
       "version_major": 2,
       "version_minor": 0
      },
      "text/plain": [
       "HBox(children=(IntProgress(value=0, max=35000), HTML(value='')))"
      ]
     },
     "metadata": {},
     "output_type": "display_data"
    }
   ],
   "source": [
    "train(batch_size=2)"
   ]
  },
  {
   "cell_type": "code",
   "execution_count": null,
   "metadata": {},
   "outputs": [],
   "source": [
    "    "
   ]
  }
 ],
 "metadata": {
  "kernelspec": {
   "display_name": "Python 3",
   "language": "python",
   "name": "python3"
  },
  "language_info": {
   "codemirror_mode": {
    "name": "ipython",
    "version": 3
   },
   "file_extension": ".py",
   "mimetype": "text/x-python",
   "name": "python",
   "nbconvert_exporter": "python",
   "pygments_lexer": "ipython3",
   "version": "3.7.3"
  }
 },
 "nbformat": 4,
 "nbformat_minor": 2
}
